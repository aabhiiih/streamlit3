{
 "cells": [
  {
   "cell_type": "code",
   "execution_count": 18,
   "metadata": {},
   "outputs": [],
   "source": [
    "import numpy as np\n",
    "import pandas as pd"
   ]
  },
  {
   "cell_type": "code",
   "execution_count": 19,
   "metadata": {},
   "outputs": [],
   "source": [
    "df=pd.read_csv('passenger_survival_dataset.csv')"
   ]
  },
  {
   "cell_type": "code",
   "execution_count": 20,
   "metadata": {},
   "outputs": [
    {
     "data": {
      "text/html": [
       "<div>\n",
       "<style scoped>\n",
       "    .dataframe tbody tr th:only-of-type {\n",
       "        vertical-align: middle;\n",
       "    }\n",
       "\n",
       "    .dataframe tbody tr th {\n",
       "        vertical-align: top;\n",
       "    }\n",
       "\n",
       "    .dataframe thead th {\n",
       "        text-align: right;\n",
       "    }\n",
       "</style>\n",
       "<table border=\"1\" class=\"dataframe\">\n",
       "  <thead>\n",
       "    <tr style=\"text-align: right;\">\n",
       "      <th></th>\n",
       "      <th>Passenger_ID</th>\n",
       "      <th>Name</th>\n",
       "      <th>Age</th>\n",
       "      <th>Gender</th>\n",
       "      <th>Class</th>\n",
       "      <th>Seat_Type</th>\n",
       "      <th>Fare_Paid</th>\n",
       "      <th>Survival_Status</th>\n",
       "    </tr>\n",
       "  </thead>\n",
       "  <tbody>\n",
       "    <tr>\n",
       "      <th>0</th>\n",
       "      <td>1</td>\n",
       "      <td>Passenger_1</td>\n",
       "      <td>52</td>\n",
       "      <td>Male</td>\n",
       "      <td>Economy</td>\n",
       "      <td>Window</td>\n",
       "      <td>822.34</td>\n",
       "      <td>0</td>\n",
       "    </tr>\n",
       "    <tr>\n",
       "      <th>1</th>\n",
       "      <td>2</td>\n",
       "      <td>Passenger_2</td>\n",
       "      <td>15</td>\n",
       "      <td>Female</td>\n",
       "      <td>Economy</td>\n",
       "      <td>Middle</td>\n",
       "      <td>732.22</td>\n",
       "      <td>0</td>\n",
       "    </tr>\n",
       "    <tr>\n",
       "      <th>2</th>\n",
       "      <td>3</td>\n",
       "      <td>Passenger_3</td>\n",
       "      <td>72</td>\n",
       "      <td>Male</td>\n",
       "      <td>First</td>\n",
       "      <td>Aisle</td>\n",
       "      <td>957.75</td>\n",
       "      <td>1</td>\n",
       "    </tr>\n",
       "    <tr>\n",
       "      <th>3</th>\n",
       "      <td>4</td>\n",
       "      <td>Passenger_4</td>\n",
       "      <td>61</td>\n",
       "      <td>Female</td>\n",
       "      <td>Business</td>\n",
       "      <td>Middle</td>\n",
       "      <td>67.32</td>\n",
       "      <td>0</td>\n",
       "    </tr>\n",
       "    <tr>\n",
       "      <th>4</th>\n",
       "      <td>5</td>\n",
       "      <td>Passenger_5</td>\n",
       "      <td>21</td>\n",
       "      <td>Male</td>\n",
       "      <td>Economy</td>\n",
       "      <td>Aisle</td>\n",
       "      <td>235.99</td>\n",
       "      <td>0</td>\n",
       "    </tr>\n",
       "    <tr>\n",
       "      <th>5</th>\n",
       "      <td>6</td>\n",
       "      <td>Passenger_6</td>\n",
       "      <td>75</td>\n",
       "      <td>Male</td>\n",
       "      <td>Economy</td>\n",
       "      <td>Middle</td>\n",
       "      <td>57.18</td>\n",
       "      <td>0</td>\n",
       "    </tr>\n",
       "    <tr>\n",
       "      <th>6</th>\n",
       "      <td>7</td>\n",
       "      <td>Passenger_7</td>\n",
       "      <td>75</td>\n",
       "      <td>Male</td>\n",
       "      <td>Economy</td>\n",
       "      <td>Aisle</td>\n",
       "      <td>665.10</td>\n",
       "      <td>0</td>\n",
       "    </tr>\n",
       "    <tr>\n",
       "      <th>7</th>\n",
       "      <td>8</td>\n",
       "      <td>Passenger_8</td>\n",
       "      <td>24</td>\n",
       "      <td>Male</td>\n",
       "      <td>Business</td>\n",
       "      <td>Window</td>\n",
       "      <td>903.13</td>\n",
       "      <td>1</td>\n",
       "    </tr>\n",
       "    <tr>\n",
       "      <th>8</th>\n",
       "      <td>9</td>\n",
       "      <td>Passenger_9</td>\n",
       "      <td>3</td>\n",
       "      <td>Male</td>\n",
       "      <td>Business</td>\n",
       "      <td>Aisle</td>\n",
       "      <td>281.31</td>\n",
       "      <td>0</td>\n",
       "    </tr>\n",
       "    <tr>\n",
       "      <th>9</th>\n",
       "      <td>10</td>\n",
       "      <td>Passenger_10</td>\n",
       "      <td>22</td>\n",
       "      <td>Male</td>\n",
       "      <td>Economy</td>\n",
       "      <td>Middle</td>\n",
       "      <td>930.68</td>\n",
       "      <td>1</td>\n",
       "    </tr>\n",
       "  </tbody>\n",
       "</table>\n",
       "</div>"
      ],
      "text/plain": [
       "   Passenger_ID          Name  Age  Gender     Class Seat_Type  Fare_Paid  \\\n",
       "0             1   Passenger_1   52    Male   Economy    Window     822.34   \n",
       "1             2   Passenger_2   15  Female   Economy    Middle     732.22   \n",
       "2             3   Passenger_3   72    Male     First     Aisle     957.75   \n",
       "3             4   Passenger_4   61  Female  Business    Middle      67.32   \n",
       "4             5   Passenger_5   21    Male   Economy     Aisle     235.99   \n",
       "5             6   Passenger_6   75    Male   Economy    Middle      57.18   \n",
       "6             7   Passenger_7   75    Male   Economy     Aisle     665.10   \n",
       "7             8   Passenger_8   24    Male  Business    Window     903.13   \n",
       "8             9   Passenger_9    3    Male  Business     Aisle     281.31   \n",
       "9            10  Passenger_10   22    Male   Economy    Middle     930.68   \n",
       "\n",
       "   Survival_Status  \n",
       "0                0  \n",
       "1                0  \n",
       "2                1  \n",
       "3                0  \n",
       "4                0  \n",
       "5                0  \n",
       "6                0  \n",
       "7                1  \n",
       "8                0  \n",
       "9                1  "
      ]
     },
     "execution_count": 20,
     "metadata": {},
     "output_type": "execute_result"
    }
   ],
   "source": [
    "df.head(10)"
   ]
  },
  {
   "cell_type": "code",
   "execution_count": 21,
   "metadata": {},
   "outputs": [
    {
     "name": "stdout",
     "output_type": "stream",
     "text": [
      "<class 'pandas.core.frame.DataFrame'>\n",
      "RangeIndex: 500 entries, 0 to 499\n",
      "Data columns (total 8 columns):\n",
      " #   Column           Non-Null Count  Dtype  \n",
      "---  ------           --------------  -----  \n",
      " 0   Passenger_ID     500 non-null    int64  \n",
      " 1   Name             500 non-null    object \n",
      " 2   Age              500 non-null    int64  \n",
      " 3   Gender           500 non-null    object \n",
      " 4   Class            500 non-null    object \n",
      " 5   Seat_Type        500 non-null    object \n",
      " 6   Fare_Paid        500 non-null    float64\n",
      " 7   Survival_Status  500 non-null    int64  \n",
      "dtypes: float64(1), int64(3), object(4)\n",
      "memory usage: 31.4+ KB\n"
     ]
    }
   ],
   "source": [
    "df.info()"
   ]
  },
  {
   "cell_type": "code",
   "execution_count": 22,
   "metadata": {},
   "outputs": [],
   "source": [
    "df.drop_duplicates(inplace=True)"
   ]
  },
  {
   "cell_type": "code",
   "execution_count": 23,
   "metadata": {},
   "outputs": [
    {
     "name": "stdout",
     "output_type": "stream",
     "text": [
      "<class 'pandas.core.frame.DataFrame'>\n",
      "RangeIndex: 500 entries, 0 to 499\n",
      "Data columns (total 8 columns):\n",
      " #   Column           Non-Null Count  Dtype  \n",
      "---  ------           --------------  -----  \n",
      " 0   Passenger_ID     500 non-null    int64  \n",
      " 1   Name             500 non-null    object \n",
      " 2   Age              500 non-null    int64  \n",
      " 3   Gender           500 non-null    object \n",
      " 4   Class            500 non-null    object \n",
      " 5   Seat_Type        500 non-null    object \n",
      " 6   Fare_Paid        500 non-null    float64\n",
      " 7   Survival_Status  500 non-null    int64  \n",
      "dtypes: float64(1), int64(3), object(4)\n",
      "memory usage: 31.4+ KB\n"
     ]
    }
   ],
   "source": [
    "df.info()"
   ]
  },
  {
   "cell_type": "code",
   "execution_count": 24,
   "metadata": {},
   "outputs": [],
   "source": [
    "from sklearn.preprocessing import LabelEncoder"
   ]
  },
  {
   "cell_type": "code",
   "execution_count": 25,
   "metadata": {},
   "outputs": [],
   "source": [
    "le=LabelEncoder()\n",
    "\n",
    "df['Name']=le.fit_transform(df['Name'])\n",
    "df['Gender']=le.fit_transform(df['Gender'])\n",
    "df['Seat_Type']=le.fit_transform(df['Seat_Type'])\n",
    "df['Class']=le.fit_transform(df['Class'])"
   ]
  },
  {
   "cell_type": "code",
   "execution_count": 26,
   "metadata": {},
   "outputs": [
    {
     "name": "stdout",
     "output_type": "stream",
     "text": [
      "0      1\n",
      "1      1\n",
      "2      2\n",
      "3      0\n",
      "4      1\n",
      "      ..\n",
      "495    0\n",
      "496    1\n",
      "497    1\n",
      "498    1\n",
      "499    0\n",
      "Name: Class, Length: 500, dtype: int32\n"
     ]
    }
   ],
   "source": [
    "print(df['Class'])"
   ]
  },
  {
   "cell_type": "code",
   "execution_count": 27,
   "metadata": {},
   "outputs": [],
   "source": [
    "X=df[['Passenger_ID','Name','Age','Gender','Class','Seat_Type','Fare_Paid']]\n",
    "y=df['Survival_Status']"
   ]
  },
  {
   "cell_type": "code",
   "execution_count": 28,
   "metadata": {},
   "outputs": [],
   "source": [
    "X.to_csv('survival.csv',index=False)"
   ]
  },
  {
   "cell_type": "code",
   "execution_count": 29,
   "metadata": {},
   "outputs": [],
   "source": [
    "from sklearn.model_selection import train_test_split\n",
    "\n",
    "X_train,X_test,y_train,y_test=train_test_split(X,y,test_size=0.2,random_state=42)"
   ]
  },
  {
   "cell_type": "code",
   "execution_count": 30,
   "metadata": {},
   "outputs": [],
   "source": [
    "from sklearn.tree import DecisionTreeClassifier"
   ]
  },
  {
   "cell_type": "code",
   "execution_count": 31,
   "metadata": {},
   "outputs": [],
   "source": [
    "from sklearn.metrics import accuracy_score,classification_report "
   ]
  },
  {
   "cell_type": "code",
   "execution_count": 32,
   "metadata": {},
   "outputs": [
    {
     "name": "stdout",
     "output_type": "stream",
     "text": [
      "accuracy 0.52\n",
      "Classification report               precision    recall  f1-score   support\n",
      "\n",
      "           0       0.55      0.69      0.61        55\n",
      "           1       0.45      0.31      0.37        45\n",
      "\n",
      "    accuracy                           0.52       100\n",
      "   macro avg       0.50      0.50      0.49       100\n",
      "weighted avg       0.51      0.52      0.50       100\n",
      "\n"
     ]
    }
   ],
   "source": [
    "model=DecisionTreeClassifier()\n",
    "model.fit(X_train,y_train)\n",
    "model.score(X_test,y_test)\n",
    "y_pred=model.predict(X_test)\n",
    "print('accuracy',accuracy_score(y_test,y_pred))\n",
    "print('Classification report',classification_report(y_test,y_pred))"
   ]
  },
  {
   "cell_type": "code",
   "execution_count": 33,
   "metadata": {},
   "outputs": [],
   "source": [
    "import pickle"
   ]
  },
  {
   "cell_type": "code",
   "execution_count": 34,
   "metadata": {},
   "outputs": [],
   "source": [
    "file_name='Passenger.pkl'\n",
    "with open(file_name,'wb') as file:\n",
    "    pickle.dump(model,file)"
   ]
  }
 ],
 "metadata": {
  "kernelspec": {
   "display_name": "base",
   "language": "python",
   "name": "python3"
  },
  "language_info": {
   "codemirror_mode": {
    "name": "ipython",
    "version": 3
   },
   "file_extension": ".py",
   "mimetype": "text/x-python",
   "name": "python",
   "nbconvert_exporter": "python",
   "pygments_lexer": "ipython3",
   "version": "3.12.7"
  }
 },
 "nbformat": 4,
 "nbformat_minor": 2
}
